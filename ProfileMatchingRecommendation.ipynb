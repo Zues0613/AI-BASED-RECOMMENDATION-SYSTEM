{
  "nbformat": 4,
  "nbformat_minor": 0,
  "metadata": {
    "colab": {
      "provenance": []
    },
    "kernelspec": {
      "name": "python3",
      "display_name": "Python 3"
    },
    "language_info": {
      "name": "python"
    }
  },
  "cells": [
    {
      "cell_type": "code",
      "execution_count": null,
      "metadata": {
        "id": "hJA8oigLD5Za"
      },
      "outputs": [],
      "source": [
        "import pandas as pd\n",
        "from sklearn.feature_extraction.text import TfidfVectorizer\n",
        "from sklearn.metrics.pairwise import cosine_similarity"
      ]
    },
    {
      "cell_type": "code",
      "source": [
        "alumni_data = pd.read_csv('/content/sample_data/alumni_profiles_final.csv')"
      ],
      "metadata": {
        "id": "ibfKc3pEEG76"
      },
      "execution_count": null,
      "outputs": []
    },
    {
      "cell_type": "code",
      "source": [
        "student_data = pd.read_csv('/content/sample_data/student_profiles_final.csv')"
      ],
      "metadata": {
        "id": "6r1P5IcFEPF3"
      },
      "execution_count": null,
      "outputs": []
    },
    {
      "cell_type": "code",
      "source": [
        "student_data.iloc[100]"
      ],
      "metadata": {
        "colab": {
          "base_uri": "https://localhost:8080/",
          "height": 272
        },
        "id": "ZcFCdcyLIztm",
        "outputId": "63258af8-65bb-4190-a192-0083df7657d0"
      },
      "execution_count": null,
      "outputs": [
        {
          "output_type": "execute_result",
          "data": {
            "text/plain": [
              "profile_id                      101\n",
              "name                     person 101\n",
              "sector              Technology & IT\n",
              "skills                       python\n",
              "interests                       NaN\n",
              "current_industry                NaN\n",
              "Name: 100, dtype: object"
            ],
            "text/html": [
              "<div>\n",
              "<style scoped>\n",
              "    .dataframe tbody tr th:only-of-type {\n",
              "        vertical-align: middle;\n",
              "    }\n",
              "\n",
              "    .dataframe tbody tr th {\n",
              "        vertical-align: top;\n",
              "    }\n",
              "\n",
              "    .dataframe thead th {\n",
              "        text-align: right;\n",
              "    }\n",
              "</style>\n",
              "<table border=\"1\" class=\"dataframe\">\n",
              "  <thead>\n",
              "    <tr style=\"text-align: right;\">\n",
              "      <th></th>\n",
              "      <th>100</th>\n",
              "    </tr>\n",
              "  </thead>\n",
              "  <tbody>\n",
              "    <tr>\n",
              "      <th>profile_id</th>\n",
              "      <td>101</td>\n",
              "    </tr>\n",
              "    <tr>\n",
              "      <th>name</th>\n",
              "      <td>person 101</td>\n",
              "    </tr>\n",
              "    <tr>\n",
              "      <th>sector</th>\n",
              "      <td>Technology &amp; IT</td>\n",
              "    </tr>\n",
              "    <tr>\n",
              "      <th>skills</th>\n",
              "      <td>python</td>\n",
              "    </tr>\n",
              "    <tr>\n",
              "      <th>interests</th>\n",
              "      <td>NaN</td>\n",
              "    </tr>\n",
              "    <tr>\n",
              "      <th>current_industry</th>\n",
              "      <td>NaN</td>\n",
              "    </tr>\n",
              "  </tbody>\n",
              "</table>\n",
              "</div><br><label><b>dtype:</b> object</label>"
            ]
          },
          "metadata": {},
          "execution_count": 20
        }
      ]
    },
    {
      "cell_type": "code",
      "source": [
        "new_student = pd.Series(['101','person 101','Technology & IT','python'],index=['profile_id','name','sector','skills'])"
      ],
      "metadata": {
        "id": "wvcNjtzFHzS8"
      },
      "execution_count": null,
      "outputs": []
    },
    {
      "cell_type": "code",
      "source": [
        "student_data = pd.concat([student_data, new_student.to_frame().T], ignore_index=True)"
      ],
      "metadata": {
        "id": "sGHJ5KQiKBnP"
      },
      "execution_count": null,
      "outputs": []
    },
    {
      "cell_type": "code",
      "source": [
        "student = student_data.drop(5, axis=0)"
      ],
      "metadata": {
        "id": "V9TAzateKy89"
      },
      "execution_count": null,
      "outputs": []
    },
    {
      "cell_type": "code",
      "source": [
        "print(student.head())"
      ],
      "metadata": {
        "colab": {
          "base_uri": "https://localhost:8080/"
        },
        "id": "wVDb9zHDK7ly",
        "outputId": "c25b1c5d-c5c9-4bff-f422-75a4e2773c38"
      },
      "execution_count": null,
      "outputs": [
        {
          "output_type": "stream",
          "name": "stdout",
          "text": [
            "  profile_id      name                         sector  \\\n",
            "0          1  Person 1        Government & Non-Profit   \n",
            "1          2  Person 2           Hospitality & Travel   \n",
            "2          3  Person 3              Finance & Banking   \n",
            "3          4  Person 4  Agriculture & Food Production   \n",
            "4          5  Person 5    Engineering & Manufacturing   \n",
            "\n",
            "                                              skills  \\\n",
            "0  Grant Writing, Humanitarian Aid, Public Policy...   \n",
            "1  Reservation Management, Hotel Operations, Hosp...   \n",
            "2  Equity Research, Financial Modeling, Quantitat...   \n",
            "3            Rural Development, Livestock Management   \n",
            "4  Product Design, Thermodynamics, Project Schedu...   \n",
            "\n",
            "                                           interests        current_industry  \n",
            "0          Public Policy, Environmental Conservation              Non-Profit  \n",
            "1    Luxury Travel, Cruise Tourism, Cultural Tourism        Event Management  \n",
            "2  Portfolio Management, Stock Market, Cryptocurr...       Wealth Management  \n",
            "3  Agribusiness, Food Technology, Agroforestry, U...           Dairy Farming  \n",
            "4  Industrial Automation, Renewable Energy, Manuf...  Electrical Engineering  \n"
          ]
        }
      ]
    },
    {
      "cell_type": "code",
      "source": [
        "selected_student = student_data.iloc[3]"
      ],
      "metadata": {
        "id": "34TDy8p9LZL6"
      },
      "execution_count": null,
      "outputs": []
    },
    {
      "cell_type": "code",
      "source": [
        "def compute_sector_similarity(student_sector, alumni_sector):\n",
        "    return 1 if student_sector == alumni_sector else 0"
      ],
      "metadata": {
        "id": "5p8xBs5d9iOO"
      },
      "execution_count": null,
      "outputs": []
    },
    {
      "cell_type": "code",
      "source": [
        "def compute_text_similarity(student_feature, alumni_feature):\n",
        "    tfidf = TfidfVectorizer(stop_words='english')\n",
        "    tfidf_matrix = tfidf.fit_transform(alumni_feature)\n",
        "    student_tfidf = tfidf.transform([student_feature])\n",
        "    return cosine_similarity(student_tfidf, tfidf_matrix).flatten()"
      ],
      "metadata": {
        "id": "EZ9buwVRWPLf"
      },
      "execution_count": null,
      "outputs": []
    },
    {
      "cell_type": "code",
      "source": [
        "print(alumni_data.columns)\n",
        "print(student_data.columns)"
      ],
      "metadata": {
        "colab": {
          "base_uri": "https://localhost:8080/"
        },
        "id": "CsfNV8BjXrEY",
        "outputId": "03b960ce-7480-4aed-ba87-9935bf051c6c"
      },
      "execution_count": null,
      "outputs": [
        {
          "output_type": "stream",
          "name": "stdout",
          "text": [
            "Index(['profile_id', 'name', 'sector', 'skills', 'interests',\n",
            "       'current_industry'],\n",
            "      dtype='object')\n",
            "Index(['profile_id', 'name', 'sector', 'skills', 'interests',\n",
            "       'current_industry'],\n",
            "      dtype='object')\n"
          ]
        }
      ]
    },
    {
      "cell_type": "code",
      "source": [
        "sector_similarities = alumni_data['sector'].apply(lambda x: compute_sector_similarity(selected_student['sector'], x))\n",
        "interest_similarities = compute_text_similarity(selected_student['interests'], alumni_data['interests'])\n",
        "skill_similarities = compute_text_similarity(selected_student['skills'], alumni_data['skills'])\n",
        "industry_similarities = compute_text_similarity(selected_student['current_industry'], alumni_data['current_industry'])"
      ],
      "metadata": {
        "id": "VOWUZeH_WRVK"
      },
      "execution_count": null,
      "outputs": []
    },
    {
      "cell_type": "code",
      "source": [
        "final_scores = (0.4 * sector_similarities) + (0.3 * interest_similarities) + (0.2 * industry_similarities) + (0.1 * skill_similarities)\n",
        "\n",
        "\n",
        "top_indices = final_scores.argsort()[::-1]\n",
        "\n",
        "\n",
        "recommendations = alumni_data.iloc[top_indices]\n",
        "\n",
        "\n",
        "top_10_recommendations = recommendations[['name', 'sector', 'skills', 'interests', 'current_industry']].head(10)"
      ],
      "metadata": {
        "id": "IkJ2znGyZLZu"
      },
      "execution_count": null,
      "outputs": []
    },
    {
      "cell_type": "code",
      "source": [
        "print(f\"Top 10 Recommended Alumni for {selected_student['name']}:\\n\", top_10_recommendations)"
      ],
      "metadata": {
        "colab": {
          "base_uri": "https://localhost:8080/"
        },
        "id": "yjqCQF8CZVEA",
        "outputId": "87ee7855-ca2a-46df-af84-a0a482b07866"
      },
      "execution_count": null,
      "outputs": [
        {
          "output_type": "stream",
          "name": "stdout",
          "text": [
            "Top 10 Recommended Alumni for Person 4:\n",
            "              name                         sector  \\\n",
            "1911  Person 1912  Agriculture & Food Production   \n",
            "1172  Person 1173  Agriculture & Food Production   \n",
            "1440  Person 1441  Agriculture & Food Production   \n",
            "1230  Person 1231  Agriculture & Food Production   \n",
            "135    Person 136  Agriculture & Food Production   \n",
            "990    Person 991  Agriculture & Food Production   \n",
            "901    Person 902  Agriculture & Food Production   \n",
            "1489  Person 1490  Agriculture & Food Production   \n",
            "963    Person 964  Agriculture & Food Production   \n",
            "1790  Person 1791  Agriculture & Food Production   \n",
            "\n",
            "                                                 skills  \\\n",
            "1911  Agribusiness, Post-Harvest Management, Organic...   \n",
            "1172  Animal Husbandry, Organic Farming, Farm Manage...   \n",
            "1440            Dairy Farming, Agricultural Engineering   \n",
            "1230          Agricultural Engineering, Food Processing   \n",
            "135   Fisheries Management, Horticulture, Irrigation...   \n",
            "990   Agricultural Engineering, Agroforestry, Livest...   \n",
            "901   Rural Development, Fisheries Management, AgriT...   \n",
            "1489  AgriTech, Food Processing, Pest Management, Pl...   \n",
            "963   Soil Science, Rural Development, Farm Manageme...   \n",
            "1790                 AgriTech, Agricultural Engineering   \n",
            "\n",
            "                                              interests current_industry  \n",
            "1911          Crop Science, Agribusiness, Urban Farming    Dairy Farming  \n",
            "1172  Urban Farming, Rural Development, Permaculture...    Dairy Farming  \n",
            "1440                          Agribusiness, Food Safety    Dairy Farming  \n",
            "1230                        Agroforestry, Urban Farming          Farming  \n",
            "135             Agroforestry, Food Safety, Agribusiness          Farming  \n",
            "990                  Fisheries Management, Agroforestry    Dairy Farming  \n",
            "901                   AgriTech Innovation, Agribusiness    Dairy Farming  \n",
            "1489       Permaculture, Urban Farming, Food Technology          Farming  \n",
            "963    Organic Farming, Rural Development, Permaculture    Dairy Farming  \n",
            "1790             Urban Farming, Sustainable Agriculture    Dairy Farming  \n"
          ]
        }
      ]
    },
    {
      "cell_type": "code",
      "source": [
        "df = pd.read_csv('/content/sample_data/student_profiles_final.csv')\n",
        "print(df.head(10))"
      ],
      "metadata": {
        "colab": {
          "base_uri": "https://localhost:8080/"
        },
        "id": "qrCfhAHDbNig",
        "outputId": "3e4d349b-4523-4d90-892d-28a19f359988"
      },
      "execution_count": null,
      "outputs": [
        {
          "output_type": "stream",
          "name": "stdout",
          "text": [
            "   profile_id       name                         sector  \\\n",
            "0           1   Person 1        Government & Non-Profit   \n",
            "1           2   Person 2           Hospitality & Travel   \n",
            "2           3   Person 3              Finance & Banking   \n",
            "3           4   Person 4  Agriculture & Food Production   \n",
            "4           5   Person 5    Engineering & Manufacturing   \n",
            "5           6   Person 6     Real Estate & Construction   \n",
            "6           7   Person 7          Media & Entertainment   \n",
            "7           8   Person 8             Energy & Utilities   \n",
            "8           9   Person 9        Consumer Goods & Retail   \n",
            "9          10  Person 10  Agriculture & Food Production   \n",
            "\n",
            "                                              skills  \\\n",
            "0  Grant Writing, Humanitarian Aid, Public Policy...   \n",
            "1  Reservation Management, Hotel Operations, Hosp...   \n",
            "2  Equity Research, Financial Modeling, Quantitat...   \n",
            "3            Rural Development, Livestock Management   \n",
            "4  Product Design, Thermodynamics, Project Schedu...   \n",
            "5  Construction Safety, Property Management, Site...   \n",
            "6  Advertising, Videography, Graphic Design, Vide...   \n",
            "7  Nuclear Engineering, Wind Energy, Sustainabili...   \n",
            "8  Demand Planning, Consumer Behavior Analysis, P...   \n",
            "9                   Horticulture, Irrigation Systems   \n",
            "\n",
            "                                           interests         current_industry  \n",
            "0          Public Policy, Environmental Conservation               Non-Profit  \n",
            "1    Luxury Travel, Cruise Tourism, Cultural Tourism         Event Management  \n",
            "2  Portfolio Management, Stock Market, Cryptocurr...        Wealth Management  \n",
            "3  Agribusiness, Food Technology, Agroforestry, U...            Dairy Farming  \n",
            "4  Industrial Automation, Renewable Energy, Manuf...   Electrical Engineering  \n",
            "5  Property Management, Interior Design, Sustaina...             Architecture  \n",
            "6          Journalism, Photography, Creative Writing  Social Media Management  \n",
            "7  Green Technologies, Water Resource Management,...         Waste Management  \n",
            "8               Consumer Behavior, Digital Marketing                   Retail  \n",
            "9         Food Technology, Food Safety, Agroforestry            Dairy Farming  \n"
          ]
        }
      ]
    }
  ]
}